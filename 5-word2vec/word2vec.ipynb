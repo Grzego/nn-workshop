{
 "cells": [
  {
   "cell_type": "code",
   "execution_count": 1,
   "metadata": {
    "collapsed": true
   },
   "outputs": [],
   "source": [
    "import tensorflow as tf\n",
    "import numpy as np\n",
    "\n",
    "from collections import Counter\n",
    "from urllib.request import urlretrieve\n",
    "from zipfile import ZipFile\n",
    "import os\n",
    "import random"
   ]
  },
  {
   "cell_type": "markdown",
   "metadata": {},
   "source": [
    "#### Wczytywanie datasetu"
   ]
  },
  {
   "cell_type": "code",
   "execution_count": 2,
   "metadata": {
    "collapsed": true
   },
   "outputs": [],
   "source": [
    "dataset_url = 'http://mattmahoney.net/dc/'\n",
    "dataset_name = 'text8.zip'\n",
    "\n",
    "if not os.path.exists(dataset_name):\n",
    "    dataset_name, _ = urlretrieve(dataset_url + dataset_name, dataset_name)\n",
    "\n",
    "with ZipFile(dataset_name) as file:\n",
    "    data = file.read(file.namelist()[0])\n",
    "    words = data.split()"
   ]
  },
  {
   "cell_type": "code",
   "execution_count": 3,
   "metadata": {
    "collapsed": true
   },
   "outputs": [],
   "source": [
    "vocab_size = 10000\n",
    "\n",
    "counter = Counter(words)\n",
    "vocab_dict = dict([(b'UNK', 0)])\n",
    "for word, _ in counter.most_common(vocab_size - 1):\n",
    "    vocab_dict[word] = len(vocab_dict)\n",
    "reverse_vocab = {v: k for k, v in vocab_dict.items()}\n",
    "dataset = list(map(lambda x: vocab_dict.get(x, 0), words))"
   ]
  },
  {
   "cell_type": "code",
   "execution_count": 4,
   "metadata": {
    "collapsed": true
   },
   "outputs": [],
   "source": [
    "class BatchGenerator(object):\n",
    "    def __init__(self, dataset, batch_size, num_skips, skip_window):\n",
    "        self.dataset = dataset\n",
    "        self.batch_size = batch_size\n",
    "        self.num_skips = num_skips\n",
    "        self.skip_window = skip_window\n",
    "        self.idx = skip_window\n",
    "                \n",
    "        assert batch_size % num_skips == 0, 'batch_size must be divisible by num_skips'\n",
    "        assert num_skips <= 2 * skip_window, 'num_skips <= 2 * skip_window'\n",
    "           \n",
    "    def next_batch(self):\n",
    "        x = np.empty(self.batch_size, dtype=np.int32)\n",
    "        y = np.empty((self.batch_size, 1), dtype=np.int32)\n",
    "        \n",
    "        for i in range(self.batch_size // self.num_skips):\n",
    "            used = set([0])\n",
    "            for s in range(self.num_skips):\n",
    "                x[i * self.num_skips + s] = self.dataset[self.idx]\n",
    "                r = 0\n",
    "                while r in used:\n",
    "                    r = random.randint(-self.skip_window, self.skip_window)\n",
    "                used.add(r)\n",
    "                y[i * self.num_skips + s] = self.dataset[self.idx + r]\n",
    "            self.idx = (self.idx + i) % (len(self.dataset) - 2 * self.skip_window) + self.skip_window\n",
    "        return x, y"
   ]
  },
  {
   "cell_type": "code",
   "execution_count": 5,
   "metadata": {},
   "outputs": [
    {
     "name": "stdout",
     "output_type": "stream",
     "text": [
      "[b'anarchism', b'originated', b'as', b'a']\n",
      "[b'originated', b'originated', b'as', b'as']\n",
      "[b'as', b'anarchism', b'a', b'originated']\n",
      "[b'anarchism', b'originated', b'as', b'a', b'term']\n",
      "[b'originated', b'as', b'term', b'first']\n",
      "[b'as', b'a', b'a', b'used']\n"
     ]
    }
   ],
   "source": [
    "gen = BatchGenerator(dataset, 4, 2, 1)\n",
    "bx, by = gen.next_batch()\n",
    "\n",
    "print([reverse_vocab[i] for i in dataset[:4]])\n",
    "print([reverse_vocab[i] for i in bx])\n",
    "print([reverse_vocab[i[0]] for i in by])\n",
    "\n",
    "gen = BatchGenerator(dataset, 4, 1, 1)\n",
    "bx, by = gen.next_batch()\n",
    "\n",
    "print([reverse_vocab[i] for i in dataset[:5]])\n",
    "print([reverse_vocab[i] for i in bx])\n",
    "print([reverse_vocab[i[0]] for i in by])"
   ]
  },
  {
   "cell_type": "code",
   "execution_count": null,
   "metadata": {
    "collapsed": true
   },
   "outputs": [],
   "source": []
  }
 ],
 "metadata": {
  "kernelspec": {
   "display_name": "Python [conda root]",
   "language": "python",
   "name": "conda-root-py"
  },
  "language_info": {
   "codemirror_mode": {
    "name": "ipython",
    "version": 3
   },
   "file_extension": ".py",
   "mimetype": "text/x-python",
   "name": "python",
   "nbconvert_exporter": "python",
   "pygments_lexer": "ipython3",
   "version": "3.5.3"
  }
 },
 "nbformat": 4,
 "nbformat_minor": 2
}
