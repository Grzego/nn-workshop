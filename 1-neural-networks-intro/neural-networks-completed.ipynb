{
 "cells": [
  {
   "cell_type": "markdown",
   "metadata": {},
   "source": [
    "### Dane treningowe\n",
    "\n",
    "Ponieważ będziemy potrzebowali na czymś wytrenować naszą sieć neuronową skorzystamy z popularnego zbioru w Machine Learningu czyli MNIST. Zbiór ten zawiera ręcznie pisane cyfry od 0 do 9. Są to niewielkie obrazki o wielkości 28x28 pixeli.\n",
    "\n",
    "Pobierzmy i załadujmy zbiór."
   ]
  },
  {
   "cell_type": "code",
   "execution_count": 1,
   "metadata": {
    "collapsed": true
   },
   "outputs": [],
   "source": [
    "# skorzystamy z gotowej funkcji do pobrania tego zbioru\n",
    "from sklearn.datasets import fetch_mldata\n",
    "mnist = fetch_mldata('MNIST original')"
   ]
  },
  {
   "cell_type": "markdown",
   "metadata": {},
   "source": [
    "Zaimportujmy dodatkowe biblioteki do wyświetlania wykresów/obrazów oraz `numpy` który jest paczką do obliczeń na macierzach"
   ]
  },
  {
   "cell_type": "code",
   "execution_count": 2,
   "metadata": {
    "collapsed": false
   },
   "outputs": [],
   "source": [
    "import matplotlib.pyplot as plt\n",
    "import seaborn as sns  # można osobno doinstalować tą paczke (rysuje ładniejsze wykresy)\n",
    "\n",
    "import numpy as np\n",
    "\n",
    "# pozwala na rysowanie w notebooku (nie otwiera osobnego okna)\n",
    "%matplotlib inline"
   ]
  },
  {
   "cell_type": "markdown",
   "metadata": {},
   "source": [
    "Sprawdźmy ile jest przykładów w zbiorze"
   ]
  },
  {
   "cell_type": "code",
   "execution_count": 3,
   "metadata": {
    "collapsed": false
   },
   "outputs": [
    {
     "name": "stdout",
     "output_type": "stream",
     "text": [
      "(70000, 784)\n",
      "(70000,)\n"
     ]
    }
   ],
   "source": [
    "print(mnist.data.shape)  # 28x28\n",
    "print(mnist.target.shape)"
   ]
  },
  {
   "cell_type": "markdown",
   "metadata": {},
   "source": [
    "Teraz wyświetlmy pare przykładowych obrazków ze zbioru"
   ]
  },
  {
   "cell_type": "code",
   "execution_count": 4,
   "metadata": {
    "collapsed": false
   },
   "outputs": [
    {
     "data": {
      "image/png": "[encoded data removed]",
      "text/plain": [
       "<matplotlib.figure.Figure at 0x1bcaaaef940>"
      ]
     },
     "metadata": {},
     "output_type": "display_data"
    }
   ],
   "source": [
    "for i in range(10):\n",
    "    r = np.random.randint(0, len(mnist.data))\n",
    "    plt.subplot(2, 5, i + 1)\n",
    "    plt.axis('off')\n",
    "    plt.title(mnist.target[r])\n",
    "    plt.imshow(mnist.data[r].reshape((28, 28)))\n",
    "plt.show()"
   ]
  },
  {
   "cell_type": "markdown",
   "metadata": {},
   "source": [
    "## Tworzenie sieci neuronowej"
   ]
  },
  {
   "cell_type": "markdown",
   "metadata": {},
   "source": [
    "Żeby za bardzo nie komplikować sprawy stworzymy sieć o trzech warstwach. Na początku ustalmy ilość neuronów w każdej z warstw. Ponieważ wielkość obrazka to 28x28 pixeli potrzebujemy więc 784 neuronów wejściowych. W warstwie ukrytej możemy ustawić ilość na dowolną. Ponieważ mamy do wyboru 10 różnych cyfr tyle samo neuronów damy w warstwie wyjściowej."
   ]
  },
  {
   "cell_type": "code",
   "execution_count": 5,
   "metadata": {
    "collapsed": true
   },
   "outputs": [],
   "source": [
    "input_layer = 784\n",
    "hidden_layer = 128\n",
    "output_layer = 10"
   ]
  },
  {
   "cell_type": "markdown",
   "metadata": {},
   "source": [
    "Kluczowym elementem sieci neuronowych są ich wagi na połączeniach między neuronami. Aktualnie po prostu wczytamy już wytrenowane wagi dla sieci."
   ]
  },
  {
   "cell_type": "code",
   "execution_count": 6,
   "metadata": {
    "collapsed": true
   },
   "outputs": [],
   "source": [
    "# wcztanie już wytrenowanych wag (parametrów)\n",
    "import h5py\n",
    "with h5py.File('weights.h5', 'r') as file:\n",
    "    W1 = file['W1'][:]\n",
    "    W2 = file['W2'][:]"
   ]
  },
  {
   "cell_type": "code",
   "execution_count": 7,
   "metadata": {
    "collapsed": true
   },
   "outputs": [],
   "source": [
    "def sigmoid(x):\n",
    "    return 1. / (1. + np.exp(-x))"
   ]
  },
  {
   "cell_type": "markdown",
   "metadata": {},
   "source": [
    "Obliczenia wykonywane przez sieć neuronową można rozrysować w postaci grafu obliczeniowego, gdzie każdy z wierzchołków reprezentuje jakąś operację na wejściach. Wykorzystywana przez nas sieć przedstawiona jest na grafie poniżej (`@` to mnożenie macierzy):\n",
    "\n",
    "![](img/nn-forward-graph.png \"\")"
   ]
  },
  {
   "cell_type": "code",
   "execution_count": 8,
   "metadata": {
    "collapsed": true
   },
   "outputs": [],
   "source": [
    "def forward_pass(x, w1, w2):\n",
    "    # x - wejście sieci\n",
    "    # w1 - parametry warstwy ukrytej\n",
    "    # w2 - parametry warstwy wyjściowej\n",
    "    \n",
    "    z1 = x @ w1\n",
    "    h1 = sigmoid(z1)\n",
    "    \n",
    "    z2 = h1 @ w2\n",
    "    h2 = sigmoid(z2)\n",
    "    \n",
    "    return h2"
   ]
  },
  {
   "cell_type": "code",
   "execution_count": 9,
   "metadata": {
    "collapsed": false
   },
   "outputs": [
    {
     "data": {
      "image/png": "[encoded data removed]",
      "text/plain": [
       "<matplotlib.figure.Figure at 0x1bcab13f8d0>"
      ]
     },
     "metadata": {},
     "output_type": "display_data"
    }
   ],
   "source": [
    "# uruchomienie sieci i sprawdzenie jej działania\n",
    "# użyj funkcji forward_pass dla kilku przykładów i zobacz czy sieć odpowiada poprawnie\n",
    "sample = np.random.choice(len(mnist.data), size=(10,), replace=False)\n",
    "x_ex = mnist.data[sample]\n",
    "y_ex = mnist.target[sample]\n",
    "\n",
    "nn_ans = forward_pass(x_ex, W1, W2)\n",
    "for i in range(10):\n",
    "    plt.subplot(2, 5, i + 1)\n",
    "    plt.axis('off')\n",
    "    plt.title(np.argmax(nn_ans[i]))\n",
    "    plt.imshow(x_ex[i].reshape((28, 28)))\n",
    "plt.show()"
   ]
  },
  {
   "cell_type": "markdown",
   "metadata": {},
   "source": [
    "## Trenowanie sieci (Back-propagation)"
   ]
  },
  {
   "cell_type": "markdown",
   "metadata": {},
   "source": [
    "Należy przygotować dane pod trenowanie sieci. Chodzi tu głównie o zakodowanie `mnist.target` w sposób 'one-hot encoding'. Czyli: $$y = \\left[ \\begin{matrix} 0 \\\\ 1 \\\\ 2 \\\\ \\vdots \\\\ 8 \\\\ 9 \\end{matrix} \\right] \\Longrightarrow \\left[ \\begin{matrix} 1 & 0 & 0 & 0 & 0 & 0 & 0 & 0 & 0 & 0 \\\\ 0 & 1 & 0 & 0 & 0 & 0 & 0 & 0 & 0 & 0 \\\\ 0 & 0 & 1 & 0 & 0 & 0 & 0 & 0 & 0 & 0 \\\\ \\vdots & \\vdots & \\vdots & \\vdots & \\vdots & \\vdots & \\vdots & \\vdots & \\vdots & \\vdots \\\\ 0 & 0 & 0 & 0 & 0 & 0 & 0 & 0 & 1 & 0 \\\\ 0 & 0 & 0 & 0 & 0 & 0 & 0 & 0 & 0 & 1 \\end{matrix} \\right]$$\n",
    "\n",
    "**Uwaga:** aktualnie wszystkie dane są posortowane względem odpowiedzi. Czyli wszystkie zera są na początku póżniej są jednyki, itd. Takie ustawienie może w znaczący sposób utrudnić trenowanie sieci. Dlatego należy dane na starcie \"przetasować\". Trzeba przy tym pamiętać, żeby wejścia dalej odpowiadały tym samym wyjściom."
   ]
  },
  {
   "cell_type": "code",
   "execution_count": 10,
   "metadata": {
    "collapsed": false
   },
   "outputs": [],
   "source": [
    "x_train = mnist.data\n",
    "y_train = np.eye(10)[mnist.target.astype(np.int32)]\n",
    "\n",
    "shuffle = np.random.permutation(len(x_train))\n",
    "x_train = x_train[shuffle]\n",
    "y_train = y_train[shuffle]"
   ]
  },
  {
   "cell_type": "markdown",
   "metadata": {},
   "source": [
    "Na starcie parametry są zwyczajnie losowane. Wykorzystamy do tego funkcje `np.random.rand(dim_1, dim_2, ..., dim_n)` losuje ona liczby z przedziału $[0, 1)$ i zwraca tensor o podanych przez nas wymiarach.\n",
    "\n",
    "**Uwaga:** Mimo, że funkcja zwraca liczby z przedziału $[0, 1)$ nasze startowe parametry powinny być z przedziału $(-0.01, 0.01)$"
   ]
  },
  {
   "cell_type": "code",
   "execution_count": 11,
   "metadata": {
    "collapsed": false
   },
   "outputs": [],
   "source": [
    "W1 = 0.01 * (2. * np.random.rand(input_layer, hidden_layer) - 1.)\n",
    "W2 = 0.01 * (2. * np.random.rand(hidden_layer, output_layer) - 1.)"
   ]
  },
  {
   "cell_type": "markdown",
   "metadata": {},
   "source": [
    "## Implementacja propagacji wstecznej\n",
    "\n",
    "Podobnie jak przy optymalizowaniu funkcji, do wyliczenia gradientów wykorzystamy _backprop_. Graf obliczeniowy jest trochę bardziej skomplikowany. (`@` oznacza mnożenie macierzy)\n",
    "\n",
    "![Backward graph](img/nn-backward-graph.png \"Graph\")"
   ]
  },
  {
   "cell_type": "markdown",
   "metadata": {},
   "source": [
    "Do zaimplementowania funkcji `back_prop(...)` będziemy jeszcze potrzebować pochodnych dla naszych funkcji oraz funkcje straty."
   ]
  },
  {
   "cell_type": "code",
   "execution_count": 12,
   "metadata": {
    "collapsed": true
   },
   "outputs": [],
   "source": [
    "def loss_func(y_true, y_pred):\n",
    "    # y_true - poprawna odpowiedź\n",
    "    # y_pred - odpowiedź wyliczona przez sieć neuronową\n",
    "    \n",
    "    return np.mean(np.square(y_true - y_pred))"
   ]
  },
  {
   "cell_type": "code",
   "execution_count": 13,
   "metadata": {
    "collapsed": true
   },
   "outputs": [],
   "source": [
    "def sigmoid_derivative(x):\n",
    "    # implementacja\n",
    "    return x * (1. - x)"
   ]
  },
  {
   "cell_type": "code",
   "execution_count": 14,
   "metadata": {
    "collapsed": true
   },
   "outputs": [],
   "source": [
    "def loss_derivative(y_true, y_pred):\n",
    "    # y_true - poprawna odpowiedź\n",
    "    # y_pred - odpowiedź wyliczona przez sieć neuronową\n",
    "    \n",
    "    return -2. * (y_true - y_pred) / len(y_pred)"
   ]
  },
  {
   "cell_type": "code",
   "execution_count": 15,
   "metadata": {
    "collapsed": true
   },
   "outputs": [],
   "source": [
    "def back_prop(x, y, w1, w2):\n",
    "    # x - wejście sieci\n",
    "    # y - poprawne odpowiedzi\n",
    "    # w1 - parametry warstwy ukrytej\n",
    "    # w2 - parametry warstwy wyjściowej\n",
    "    \n",
    "    # zastąp linie pod spodem kodem z funkcji forward_pass\n",
    "    # >>>\n",
    "    z1 = x @ w1\n",
    "    h1 = sigmoid(z1)\n",
    "    \n",
    "    z2 = h1 @ w2\n",
    "    h2 = sigmoid(z2)\n",
    "    # <<<\n",
    "    \n",
    "    loss = loss_func(y, h2)\n",
    "    \n",
    "    # backprop: loss = loss_func(y, h2)\n",
    "    dh2 = loss_derivative(y, h2)\n",
    "    \n",
    "    # backprop: h2 = sigmoid(z2)\n",
    "    dz2 = sigmoid_derivative(h2) * dh2\n",
    "    \n",
    "    # backprop: z2 = h1 @ w2\n",
    "    dh1 = dz2 @ w2.T\n",
    "    dw2 = h1.T @ dz2\n",
    "    \n",
    "    # backprop: h1 = sigmoid(z1)\n",
    "    dz1 = sigmoid_derivative(h1) * dh1\n",
    "    \n",
    "    # backprop: z1 = x @ w1\n",
    "    dx = dz1 @ w1.T\n",
    "    dw1 = x.T @ dz1\n",
    "    \n",
    "    return loss, dw1, dw2"
   ]
  },
  {
   "cell_type": "markdown",
   "metadata": {},
   "source": [
    "Napiszemy jeszcze funkcje, która będzie wykonywała jeden krok optymalizacji dla podanych parametrów i ich gradientów o podanym kroku."
   ]
  },
  {
   "cell_type": "code",
   "execution_count": 16,
   "metadata": {
    "collapsed": false
   },
   "outputs": [],
   "source": [
    "def apply_gradients(w1, w2, dw1, dw2, learning_rate):\n",
    "    # w1 - parametry warstwy ukrytej\n",
    "    # w2 - parametry warstwy wyjściowej\n",
    "    # dw1 - gradienty dla parametrów warstwy ukrytej\n",
    "    # dw2 - gradienty dla parametrów warstwy wyjściowej\n",
    "    # learning_rate - krok optymalizacji\n",
    "    \n",
    "    w1 -= learning_rate * dw1\n",
    "    w2 -= learning_rate * dw2\n",
    "    \n",
    "    return w1, w2"
   ]
  },
  {
   "cell_type": "markdown",
   "metadata": {},
   "source": [
    "Żeby móc lepiej ocenić postęp uczenia się sieci napiszemy funkcje, która będzie wyliczać jaki procent odpowiedzi udzielanych przez sieć neuronową jest poprawny."
   ]
  },
  {
   "cell_type": "code",
   "execution_count": 17,
   "metadata": {
    "collapsed": false
   },
   "outputs": [],
   "source": [
    "def accuracy(x, y, w1, w2):\n",
    "    # x - wejście sieci\n",
    "    # y - poprawne odpowiedzi\n",
    "    # w1 - parametry warstwy ukrytej\n",
    "    # w2 - parametry warstwy wyjściowej\n",
    "    \n",
    "    # hint: użyj funkcji forward_pass i np.argmax\n",
    "    pred = forward_pass(x, w1, w2)\n",
    "    return np.sum(np.isclose(np.argmax(pred, axis=1), np.argmax(y, axis=1))) / len(x)"
   ]
  },
  {
   "cell_type": "markdown",
   "metadata": {},
   "source": [
    "W końcu możemy przejść do napisania głównej pętli uczącej."
   ]
  },
  {
   "cell_type": "code",
   "execution_count": 18,
   "metadata": {
    "collapsed": true
   },
   "outputs": [],
   "source": [
    "nb_epoch = 5  # ile razy będziemy iterować po danych treningowych\n",
    "learning_rate = 0.001\n",
    "batch_size = 16  # na jak wielu przykładach na raz będziemy trenować sieć"
   ]
  },
  {
   "cell_type": "code",
   "execution_count": 19,
   "metadata": {
    "collapsed": false
   },
   "outputs": [
    {
     "name": "stdout",
     "output_type": "stream",
     "text": [
      "\n",
      "Epoch 0\n",
      "[69985/70000] loss: 0.085540 - accuracy:   0.437500\n",
      "Epoch 1\n",
      "[69985/70000] loss: 0.057606 - accuracy:   0.750000\n",
      "Epoch 2\n",
      "[69985/70000] loss: 0.038187 - accuracy:   0.875000\n",
      "Epoch 3\n",
      "[69985/70000] loss: 0.028400 - accuracy:   0.937500\n",
      "Epoch 4\n",
      "[69985/70000] loss: 0.021775 - accuracy:   1.000000"
     ]
    },
    {
     "data": {
      "image/png": "[encoded data removed]",
      "text/plain": [
       "<matplotlib.figure.Figure at 0x1bcab48a4e0>"
      ]
     },
     "metadata": {},
     "output_type": "display_data"
    }
   ],
   "source": [
    "losses = []\n",
    "for epoch in range(nb_epoch):\n",
    "    print('\\nEpoch %d' % (epoch,))\n",
    "    for i in range(0, len(x_train), batch_size):\n",
    "        x_batch = x_train[i:i+batch_size]\n",
    "        y_batch = y_train[i:i+batch_size]\n",
    "\n",
    "        # wykonaj back_prop dla pojedynczego batch'a\n",
    "        loss, dw1, dw2 = back_prop(x_batch, y_batch, W1, W2)\n",
    "        \n",
    "        # zaktualizuj parametry\n",
    "        W1, W2 = apply_gradients(W1, W2, dw1, dw2, learning_rate)\n",
    "        \n",
    "        losses.append(loss)\n",
    "        print('\\r[%5d/%5d] loss: %8.6f - accuracy: %10.6f' % (i + 1, len(x_train),\n",
    "                  loss, accuracy(x_batch, y_batch, W1, W2)), end='')\n",
    "        \n",
    "plt.plot(losses)\n",
    "plt.show()"
   ]
  },
  {
   "cell_type": "code",
   "execution_count": 20,
   "metadata": {
    "collapsed": false
   },
   "outputs": [
    {
     "name": "stdout",
     "output_type": "stream",
     "text": [
      "Dokładność dla całego zbioru: 0.916757142857\n"
     ]
    }
   ],
   "source": [
    "print('Dokładność dla całego zbioru:', accuracy(x_train, y_train, W1, W2))"
   ]
  }
 ],
 "metadata": {
  "anaconda-cloud": {},
  "kernelspec": {
   "display_name": "Python [default]",
   "language": "python",
   "name": "python3"
  },
  "language_info": {
   "codemirror_mode": {
    "name": "ipython",
    "version": 3
   },
   "file_extension": ".py",
   "mimetype": "text/x-python",
   "name": "python",
   "nbconvert_exporter": "python",
   "pygments_lexer": "ipython3",
   "version": "3.5.2"
  }
 },
 "nbformat": 4,
 "nbformat_minor": 1
}
