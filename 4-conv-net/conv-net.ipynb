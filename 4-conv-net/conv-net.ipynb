{
 "cells": [
  {
   "cell_type": "code",
   "execution_count": 1,
   "metadata": {
    "collapsed": true
   },
   "outputs": [],
   "source": [
    "import tensorflow as tf\n",
    "import numpy as np\n",
    "\n",
    "import matplotlib.pyplot as plt\n",
    "import seaborn"
   ]
  },
  {
   "cell_type": "markdown",
   "metadata": {},
   "source": [
    "#### Ładujemy dane"
   ]
  },
  {
   "cell_type": "code",
   "execution_count": 2,
   "metadata": {
    "scrolled": true
   },
   "outputs": [],
   "source": [
    "from sklearn.datasets import fetch_mldata\n",
    "mnist = fetch_mldata('MNIST original')\n",
    "# przeksztalcamy dane tak by reprezentowaly obrazki\n",
    "data = mnist.data.reshape(-1, 28, 28, 1)\n",
    "target = mnist.target.astype(np.int32)\n",
    "\n",
    "# zmieniamy target na kodowanie one_hot\n",
    "target = np.eye(10)[target]\n",
    "\n",
    "# tasujemy dane (ustawiamy seed na konkretna wartosc,\n",
    "#                zeby pozniej porownac rezultaty)\n",
    "np.random.seed(1337)\n",
    "shuffle = np.random.permutation(len(data))\n",
    "data = data[shuffle]\n",
    "target = target[shuffle]\n",
    "\n",
    "# ostatnie 10k przykladow traktujemy jako zbior\n",
    "# do walidacji wynikow\n",
    "valid_data = data[-10000:]\n",
    "valid_target = target[-10000:]\n",
    "\n",
    "data = data[:-10000]\n",
    "target = target[:-10000]"
   ]
  },
  {
   "cell_type": "markdown",
   "metadata": {},
   "source": [
    "#### Tworzymy graf obliczeniowy"
   ]
  },
  {
   "cell_type": "code",
   "execution_count": 3,
   "metadata": {},
   "outputs": [],
   "source": [
    "graph = tf.Graph()\n",
    "with graph.as_default():\n",
    "    # zmieniamy ksztalt wejscia na [height, width, channels] - channels to na przyklad RGB\n",
    "    # w tym przypadku obrazek jest czarno-bialy wiec mamy tylko jeden kanal\n",
    "    x = tf.placeholder(tf.float32, shape=[None, 28, 28, 1])\n",
    "    y = tf.placeholder(tf.float32, shape=[None, 10])\n",
    "\n",
    "    # tworzymy filtry warstwy konwolucyjnej\n",
    "    # shape=[width, height, in_channels, out_channels]\n",
    "    conv1w = tf.Variable(tf.truncated_normal(shape=[3, 3, 1, 16], stddev=0.01))    \n",
    "    conv1b = tf.Variable(tf.ones(shape=[16]))\n",
    "    \n",
    "    conv2w = tf.Variable(tf.truncated_normal(shape=[3, 3, 16, 16], stddev=0.01))\n",
    "    conv2b = tf.Variable(tf.ones(shape=[16]))\n",
    "    \n",
    "    conv3w = tf.Variable(tf.truncated_normal(shape=[3, 3, 16, 16], stddev=0.01))\n",
    "    conv3b = tf.Variable(tf.ones(shape=[16]))\n",
    "    \n",
    "    # aplikujemy konwolucje\n",
    "    # strides=[batch, width, height, depth] - mowi jaki robimy krok przy aplikowaniu filtra\n",
    "    h = tf.nn.conv2d(x, conv1w, [1, 2, 2, 1], padding='SAME') + conv1b\n",
    "    h = tf.nn.relu(h)\n",
    "    \n",
    "    h = tf.nn.conv2d(h, conv2w, [1, 2, 2, 1], padding='SAME') + conv2b\n",
    "    h = tf.nn.relu(h)\n",
    "    \n",
    "    h = tf.nn.conv2d(h, conv3w, [1, 2, 2, 1], padding='SAME') + conv3b\n",
    "    h = tf.nn.relu(h)\n",
    "    \n",
    "    # poniewaz po zastosowaniu konwolucji dalej mamy obraz\n",
    "    # musimy, podobnie jak poprzednio splaszczyc go do jednego wielkiego wektora\n",
    "    \n",
    "    # tutaj pobieramy wymiary finalnego obrazka po konwolucjach [batch, width, height, channel]\n",
    "    conv_output_shape = h.get_shape().as_list()[1:]\n",
    "    # conv_vec_len = width * height * channel\n",
    "    conv_vec_len = np.prod(conv_output_shape)\n",
    "    h = tf.reshape(h, shape=[-1, conv_vec_len])\n",
    "    # teraz mozemy tak jak poprzednio zastosowac warstwy \"fully connected\"    \n",
    "    \n",
    "    # wagi pierwszej warstwy\n",
    "    w1 = tf.Variable(tf.truncated_normal(shape=[conv_vec_len, 128], stddev=0.01))\n",
    "    b1 = tf.Variable(tf.zeros(shape=[128]))\n",
    "    \n",
    "    # wagi drugiej warstwy\n",
    "    w2 = tf.Variable(tf.truncated_normal(shape=[128, 10], stddev=0.01))\n",
    "    b2 = tf.Variable(tf.zeros(shape=[10]))\n",
    "    \n",
    "    # pierwsza warstwa\n",
    "    h = tf.matmul(h, w1) + b1\n",
    "    h = tf.nn.relu(h)\n",
    "    \n",
    "    # druga warstwa\n",
    "    h = tf.matmul(h, w2) + b2\n",
    "    y_ = tf.nn.softmax(h)\n",
    "    \n",
    "    # funkcja straty (zmieniamy z MSE na CrossEntropy)\n",
    "    loss = tf.reduce_mean(tf.nn.softmax_cross_entropy_with_logits(logits=h, labels=y))\n",
    "    \n",
    "    # tworzymy optimalizator i ustawiamy learning rate\n",
    "    optimizer = tf.train.AdamOptimizer(learning_rate=0.0001)\n",
    "    \n",
    "    # tworzymy operacje trenowania (minimalizowanie straty)\n",
    "    train_step = optimizer.minimize(loss)\n",
    "    \n",
    "    # dodatkowo liczenie dokladnosci\n",
    "    accuracy = tf.reduce_mean(tf.cast(tf.equal(tf.argmax(y_, axis=1),\n",
    "                                               tf.argmax(y, axis=1)),\n",
    "                                      tf.float32))"
   ]
  },
  {
   "cell_type": "markdown",
   "metadata": {},
   "source": [
    "#### Tworzymy sesję i trenujemy sieć"
   ]
  },
  {
   "cell_type": "code",
   "execution_count": 4,
   "metadata": {},
   "outputs": [
    {
     "name": "stdout",
     "output_type": "stream",
     "text": [
      "\n",
      "Epoch 0\n",
      "[60000/60000] loss = 0.327081352472305364\n",
      "Epoch 1\n",
      "[60000/60000] loss = 0.188777893781662244\n",
      "Epoch 2\n",
      "[60000/60000] loss = 0.1332698911428451526\n",
      "Epoch 3\n",
      "[60000/60000] loss = 0.0925410911440849326\n",
      "Epoch 4\n",
      "[60000/60000] loss = 0.0694024115800857557"
     ]
    },
    {
     "data": {
      "image/png": "[encoded data removed]",
      "text/plain": [
       "<matplotlib.figure.Figure at 0x23062f58898>"
      ]
     },
     "metadata": {},
     "output_type": "display_data"
    },
    {
     "name": "stdout",
     "output_type": "stream",
     "text": [
      "Validation accuracy: 0.9719\n"
     ]
    }
   ],
   "source": [
    "epochs = 5\n",
    "batch_size = 32\n",
    "\n",
    "# tworzymy sesje dla utworzonego wczesniej grafu\n",
    "with tf.Session(graph=graph) as sess:\n",
    "    # inicjalizujemy zmienne\n",
    "    sess.run(tf.global_variables_initializer())\n",
    "    \n",
    "    losses = []\n",
    "    acc = []\n",
    "    \n",
    "    for e in range(epochs):\n",
    "        print('\\nEpoch {}'.format(e))\n",
    "        for b in range(0, len(data), batch_size):\n",
    "            # pobieramy kolejna partie danych treningowych\n",
    "            be = min(len(data), b + batch_size)\n",
    "            x_batch = data[b: be]\n",
    "            y_batch = target[b: be]\n",
    "\n",
    "            # uruchamiamy obliczenia dla [loss, accuracy, train_step]\n",
    "            l, a, _ = sess.run([loss, accuracy, train_step],\n",
    "                               feed_dict={x: x_batch, y: y_batch})\n",
    "            losses += [l]\n",
    "            acc += [a]\n",
    "            \n",
    "            print('\\r[{:5d}/{:5d}] loss = {}'.format(be, len(data), l), end='')\n",
    "        \n",
    "    # policzymy teraz dokladnosc dla validation set\n",
    "    validation_accuracy = 0\n",
    "    for b in range(0, len(valid_data), batch_size):\n",
    "        be = min(len(valid_data), b + batch_size)\n",
    "        a = sess.run(accuracy, feed_dict={x: valid_data[b: be], y: valid_target[b: be]})\n",
    "        validation_accuracy += a * (be - b)\n",
    "    validation_accuracy /= len(valid_data)\n",
    "    \n",
    "plt.plot(losses)\n",
    "plt.plot(acc)\n",
    "plt.show()\n",
    "\n",
    "print('Validation accuracy: {}'.format(validation_accuracy))"
   ]
  },
  {
   "cell_type": "code",
   "execution_count": null,
   "metadata": {
    "collapsed": true
   },
   "outputs": [],
   "source": []
  }
 ],
 "metadata": {
  "anaconda-cloud": {},
  "kernelspec": {
   "display_name": "Python [conda root]",
   "language": "python",
   "name": "conda-root-py"
  },
  "language_info": {
   "codemirror_mode": {
    "name": "ipython",
    "version": 3
   },
   "file_extension": ".py",
   "mimetype": "text/x-python",
   "name": "python",
   "nbconvert_exporter": "python",
   "pygments_lexer": "ipython3",
   "version": "3.5.3"
  }
 },
 "nbformat": 4,
 "nbformat_minor": 1
}
